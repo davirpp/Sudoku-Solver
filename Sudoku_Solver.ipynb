{
 "cells": [
  {
   "cell_type": "markdown",
   "metadata": {},
   "source": [
    "# Sudoku Solver"
   ]
  },
  {
   "cell_type": "markdown",
   "metadata": {},
   "source": [
    "### First of all let's make a function to check if the moviment is valid"
   ]
  },
  {
   "cell_type": "code",
   "execution_count": 1,
   "metadata": {},
   "outputs": [],
   "source": [
    "def valid_moviment(grid, line, column, number):\n",
    "    \n",
    "    #If is in the same line\n",
    "    for x in range(9): \n",
    "        if grid[line][x] == number:\n",
    "            return False\n",
    "    \n",
    "    #If is in the same column\n",
    "    for x in range(9):\n",
    "        if grid[x][column] == number:\n",
    "            return False\n",
    "        \n",
    "    #If is in the same block\n",
    "    line_corner = (line // 3) * 3\n",
    "    column_corner = (column // 3) * 3   \n",
    "    for x in range(3): #blocos de 3x3\n",
    "        for y in range(3):\n",
    "            if grid[line_corner + x][column_corner + y] == number:\n",
    "                return False\n",
    "            \n",
    "    return True"
   ]
  },
  {
   "cell_type": "markdown",
   "metadata": {},
   "source": [
    "### Now let's do a function to solve the Sudoku with a recursive function"
   ]
  },
  {
   "cell_type": "code",
   "execution_count": 2,
   "metadata": {},
   "outputs": [],
   "source": [
    "def solver(grid, line, column):\n",
    "    \n",
    "    if column == 9:\n",
    "        if line == 8:\n",
    "            return True\n",
    "        line += 1\n",
    "        column = 0\n",
    "    \n",
    "    if grid[line][column] > 0:\n",
    "        return solver(grid, line, column + 1)\n",
    "    \n",
    "    \n",
    "    for number in range(1, 10):     \n",
    "        \n",
    "        if valid_moviment(grid, line, column, number):       \n",
    "            grid[line][column] = number\n",
    "            \n",
    "            if solver(grid, line, column + 1):\n",
    "                return True\n",
    "        \n",
    "        grid[line][column] = 0\n",
    "    \n",
    "    return False"
   ]
  },
  {
   "cell_type": "markdown",
   "metadata": {},
   "source": [
    "### Actual grid:"
   ]
  },
  {
   "cell_type": "code",
   "execution_count": 3,
   "metadata": {},
   "outputs": [],
   "source": [
    "grid = [[0, 4, 0, 1, 5, 0, 0, 8, 3],\n",
    "        [0, 3, 0, 0, 6, 0, 5, 0, 0],\n",
    "        [6, 0, 0, 0, 0, 0, 0, 0, 9],\n",
    "        [0, 5, 0, 0, 0, 0, 0, 0, 0],\n",
    "        [1, 0, 0, 7, 0, 8, 0, 0, 2],\n",
    "        [0, 0, 0, 0, 0, 0, 0, 6, 0],\n",
    "        [5, 0, 0, 0, 0, 0, 0, 0, 4],\n",
    "        [0, 0, 4, 0, 8, 0, 0, 7, 0],\n",
    "        [8, 6, 0, 0, 2, 4, 0, 9, 0]]\n",
    "\n",
    "# To help:\n",
    "# grid = [[0, 0, 0, 0, 0, 0, 0, 0, 0],\n",
    "#         [0, 0, 0, 0, 0, 0, 0, 0, 0],\n",
    "#         [0, 0, 0, 0, 0, 0, 0, 0, 0],\n",
    "#         [0, 0, 0, 0, 0, 0, 0, 0, 0],\n",
    "#         [0, 0, 0, 0, 0, 0, 0, 0, 0],\n",
    "#         [0, 0, 0, 0, 0, 0, 0, 0, 0],\n",
    "#         [0, 0, 0, 0, 0, 0, 0, 0, 0],\n",
    "#         [0, 0, 0, 0, 0, 0, 0, 0, 0],\n",
    "#         [0, 0, 0, 0, 0, 0, 0, 0, 0]]"
   ]
  },
  {
   "cell_type": "markdown",
   "metadata": {},
   "source": [
    "### Using the solver:"
   ]
  },
  {
   "cell_type": "code",
   "execution_count": 4,
   "metadata": {},
   "outputs": [
    {
     "name": "stdout",
     "output_type": "stream",
     "text": [
      "7 4 9 1 5 2 6 8 3 \n",
      "2 3 1 8 6 9 5 4 7 \n",
      "6 8 5 4 7 3 2 1 9 \n",
      "4 5 2 9 1 6 7 3 8 \n",
      "1 9 6 7 3 8 4 5 2 \n",
      "3 7 8 2 4 5 9 6 1 \n",
      "5 1 3 6 9 7 8 2 4 \n",
      "9 2 4 5 8 1 3 7 6 \n",
      "8 6 7 3 2 4 1 9 5 \n"
     ]
    }
   ],
   "source": [
    "#Remember to edit the grid\n",
    "if solver(grid, 0, 0):\n",
    "    for i in range(9):\n",
    "        for j in range(9):\n",
    "            print(grid[i][j], end=\" \")\n",
    "        print()\n",
    "\n",
    "else:\n",
    "    print('No posible solution for this Sudoku')"
   ]
  }
 ],
 "metadata": {
  "kernelspec": {
   "display_name": "Python 3",
   "language": "python",
   "name": "python3"
  },
  "language_info": {
   "codemirror_mode": {
    "name": "ipython",
    "version": 3
   },
   "file_extension": ".py",
   "mimetype": "text/x-python",
   "name": "python",
   "nbconvert_exporter": "python",
   "pygments_lexer": "ipython3",
   "version": "3.8.5"
  }
 },
 "nbformat": 4,
 "nbformat_minor": 4
}
